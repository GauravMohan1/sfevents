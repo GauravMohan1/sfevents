{
 "cells": [
  {
   "cell_type": "code",
   "execution_count": 145,
   "metadata": {},
   "outputs": [],
   "source": [
    "from dotenv import load_dotenv\n",
    "import os\n",
    "import openai\n",
    "\n",
    "load_dotenv()\n",
    "openai.api_key = os.getenv(\"OPENAI_API_KEY\")"
   ]
  },
  {
   "cell_type": "code",
   "execution_count": 146,
   "metadata": {},
   "outputs": [],
   "source": [
    "# selenium 4\n",
    "from selenium import webdriver\n",
    "from selenium.webdriver.chrome.service import Service as ChromeService\n",
    "from webdriver_manager.chrome import ChromeDriverManager\n",
    "from selenium.webdriver.common.by import By\n",
    "import time \n",
    "from bs4 import BeautifulSoup\n",
    "\n",
    "\n",
    "driver = webdriver.Chrome(ChromeDriverManager().install())\n",
    "\n",
    "driver.get('https://19hz.info/eventlisting_BayArea.php#crewList')\n",
    "driver.find_element_by_xpath('/html/body/div[1]/div/span[1]/button[1]').click()\n",
    "time.sleep(5)\n",
    "body = driver.find_element_by_xpath('/html/body')\n",
    "\n",
    "events = []\n",
    "recurring_events = []\n",
    "table = driver.find_element(By.XPATH, '/html/body/table[1]/tbody')\n",
    "rows = table.find_elements(By.TAG_NAME, \"tr\") # get all of the rows in the table\n",
    "for row in rows:\n",
    "    events.append(row.text)\n",
    "\n",
    "rec_table = driver.find_element_by_id(\"mobileEnable\")\n",
    "rows = rec_table.find_elements(By.TAG_NAME, \"tr\") # get all of the rows in the table\n",
    "for row in rows:\n",
    "    recurring_events.append(row.text)\n"
   ]
  },
  {
   "cell_type": "code",
   "execution_count": 147,
   "metadata": {},
   "outputs": [],
   "source": [
    "text = body.text.split('\\n')\n",
    "start_index,end_index = 0,0\n",
    "for i in range(len(text)):\n",
    "    if text[i] == 'Venue List':\n",
    "        start_index = i+2\n",
    "    if text[i] == 'Promoter List':\n",
    "        end_index = i\n",
    "        break\n",
    "text_comp = text[start_index:end_index]\n",
    "venues = {}\n",
    "for line in text_comp:\n",
    "    name,address = line.split('-')\n",
    "    name = name.rstrip()\n",
    "    address = address.lstrip()\n",
    "    venues[name] = address\n",
    "driver.quit()"
   ]
  },
  {
   "cell_type": "code",
   "execution_count": 148,
   "metadata": {},
   "outputs": [],
   "source": [
    "from opencage.geocoder import OpenCageGeocode\n",
    "from shapely.geometry import Point\n",
    "\n",
    "\n",
    "key = '21b734acde524209895d1c01fc8e6eea'\n",
    "geocoder = OpenCageGeocode(key)\n",
    "locations = {}\n",
    "\n",
    "for k,v in venues.items():\n",
    "    results = geocoder.geocode(v)\n",
    "    loc = Point(results[0]['geometry']['lat'],results[0]['geometry']['lng'])\n",
    "    locations[k] = ((v,loc))\n"
   ]
  },
  {
   "cell_type": "code",
   "execution_count": 150,
   "metadata": {},
   "outputs": [],
   "source": [
    "def generate_prompt(event):\n",
    "    prompt = \"\"\"Extract the Date/Time, Event Name, Venue, Music Genres, Price, Age Requirement, and Performers from each event and store it into a JSON with the following structure {venue: venue_name, event: event_name, date: date/time, age: age_requirement, price: price, music:[musc genres], performers:[performers]}\"\"\" + '\\n' + \"Event:\" + event + '\\n' + 'Enclose each key and value in the JSON structure with double quotes.'\n",
    "    return prompt\n",
    "\n",
    "def find_address(venue,locations):\n",
    "    prompt = \"Find the closest match to the venue given the list of locations. Select that location from the list of locations\" + '\\n' + 'Venue:' + venue + '\\n' + 'Locations:' + str(locations)\n",
    "    return prompt"
   ]
  },
  {
   "cell_type": "code",
   "execution_count": 160,
   "metadata": {},
   "outputs": [
    {
     "name": "stdout",
     "output_type": "stream",
     "text": [
      "{\n",
      "  \"venue\": \"The Midway\",\n",
      "  \"event\": \"P.O.S - Deeper Tales Tour\",\n",
      "  \"date\": \"Sun: Mar 19 (2pm-8pm)\",\n",
      "  \"age\": 21+,\n",
      "  \"price\": \"$40\",\n",
      "  \"music\": [\n",
      "    \"progressive house\",\n",
      "    \"trance\"\n",
      "  ],\n",
      "  \"performers\": []\n",
      "}\n"
     ]
    }
   ],
   "source": [
    "import json\n",
    "import pandas as pd\n",
    "import numpy as np\n",
    "\n",
    "sf_events = pd.DataFrame()\n",
    "\n",
    "\n",
    "for event in events:\n",
    "   \n",
    "   response = openai.Completion.create(\n",
    "        model=\"text-davinci-003\",\n",
    "        prompt=generate_prompt(event),\n",
    "        temperature=0.0,\n",
    "        max_tokens = 200,\n",
    "   )\n",
    "   response_text = response['choices'][0]['text'].strip()\n",
    "   try:\n",
    "     response_dict = json.loads(response_text)\n",
    "   except:\n",
    "     print(response_text)    \n",
    "     break\n",
    "\n",
    "   venue = response_dict['venue']\n",
    "\n",
    "   response = openai.Completion.create(\n",
    "        model=\"text-curie-001\",\n",
    "        prompt=find_address(venue,locations.keys()),\n",
    "        temperature=0.0,\n",
    "        max_tokens = 100,\n",
    "   )\n",
    "\n",
    "   location = response['choices'][0]['text'].strip()\n",
    "   try:\n",
    "     response_dict['location'] = locations[location]\n",
    "   except:\n",
    "     response_dict['location'] = np.nan\n",
    "\n",
    " \n",
    "   sf_events = sf_events.append(response_dict, ignore_index=True)\n",
    "   \n",
    "\n",
    "\n",
    "     \n"
   ]
  },
  {
   "cell_type": "code",
   "execution_count": null,
   "metadata": {},
   "outputs": [],
   "source": [
    "sf_events.to_csv('bar_events.csv')"
   ]
  }
 ],
 "metadata": {
  "kernelspec": {
   "display_name": "base",
   "language": "python",
   "name": "python3"
  },
  "language_info": {
   "codemirror_mode": {
    "name": "ipython",
    "version": 3
   },
   "file_extension": ".py",
   "mimetype": "text/x-python",
   "name": "python",
   "nbconvert_exporter": "python",
   "pygments_lexer": "ipython3",
   "version": "3.9.7 (default, Sep 16 2021, 08:50:36) \n[Clang 10.0.0 ]"
  },
  "orig_nbformat": 4,
  "vscode": {
   "interpreter": {
    "hash": "550d0c189b7e45fdfea85b851043bd38883faf739a668ca7e6d12e375ab947ba"
   }
  }
 },
 "nbformat": 4,
 "nbformat_minor": 2
}
