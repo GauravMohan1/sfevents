{
 "cells": [
  {
   "attachments": {},
   "cell_type": "markdown",
   "metadata": {},
   "source": [
    "## Get Embeddings"
   ]
  },
  {
   "cell_type": "code",
   "execution_count": 121,
   "metadata": {},
   "outputs": [],
   "source": [
    "import pandas as pd\n",
    "import tiktoken\n",
    "from openai.embeddings_utils import get_embedding\n",
    "import os\n",
    "import openai\n",
    "\n",
    "openai.apikey = os.getenv(\"OPENAI_API_KEY\")\n",
    "# embedding model parameters\n",
    "embedding_model = \"text-embedding-ada-002\"\n",
    "embedding_encoding = \"cl100k_base\"  # this the encoding for text-embedding-ada-002\n",
    "max_tokens = 5000  # the maximum for text-embedding-ada-002 is 8191"
   ]
  },
  {
   "cell_type": "code",
   "execution_count": 99,
   "metadata": {},
   "outputs": [
    {
     "data": {
      "text/html": [
       "<div>\n",
       "<style scoped>\n",
       "    .dataframe tbody tr th:only-of-type {\n",
       "        vertical-align: middle;\n",
       "    }\n",
       "\n",
       "    .dataframe tbody tr th {\n",
       "        vertical-align: top;\n",
       "    }\n",
       "\n",
       "    .dataframe thead th {\n",
       "        text-align: right;\n",
       "    }\n",
       "</style>\n",
       "<table border=\"1\" class=\"dataframe\">\n",
       "  <thead>\n",
       "    <tr style=\"text-align: right;\">\n",
       "      <th></th>\n",
       "      <th>venue</th>\n",
       "      <th>event</th>\n",
       "      <th>date</th>\n",
       "      <th>age</th>\n",
       "      <th>price</th>\n",
       "      <th>music</th>\n",
       "      <th>performers</th>\n",
       "      <th>location</th>\n",
       "    </tr>\n",
       "  </thead>\n",
       "  <tbody>\n",
       "    <tr>\n",
       "      <th>0</th>\n",
       "      <td>The Fillmore</td>\n",
       "      <td>The Avett Brothers</td>\n",
       "      <td>2018-11-08T19:30:00</td>\n",
       "      <td>18+</td>\n",
       "      <td>$39.50</td>\n",
       "      <td>['Folk', 'Rock']</td>\n",
       "      <td>['The Avett Brothers']</td>\n",
       "      <td>NaN</td>\n",
       "    </tr>\n",
       "    <tr>\n",
       "      <th>1</th>\n",
       "      <td>The Fillmore</td>\n",
       "      <td>The 1975</td>\n",
       "      <td>2018-11-09T19:00:00</td>\n",
       "      <td>16+</td>\n",
       "      <td>$45.50</td>\n",
       "      <td>['Indie', 'Pop']</td>\n",
       "      <td>['The 1975']</td>\n",
       "      <td>NaN</td>\n",
       "    </tr>\n",
       "    <tr>\n",
       "      <th>2</th>\n",
       "      <td>F8</td>\n",
       "      <td>INTERZONE</td>\n",
       "      <td>Tue: Feb 14</td>\n",
       "      <td>21+</td>\n",
       "      <td>free</td>\n",
       "      <td>['darkwave', 'goth', 'EBM', 'industrial', 'wit...</td>\n",
       "      <td>['Hex Embrace']</td>\n",
       "      <td>('1192 Folsom, San Francisco', &lt;shapely.geomet...</td>\n",
       "    </tr>\n",
       "    <tr>\n",
       "      <th>3</th>\n",
       "      <td>The Fillmore</td>\n",
       "      <td>The 1975</td>\n",
       "      <td>2018-11-09T19:00:00</td>\n",
       "      <td>16+</td>\n",
       "      <td>$45.50</td>\n",
       "      <td>['Indie', 'Pop']</td>\n",
       "      <td>['The 1975']</td>\n",
       "      <td>NaN</td>\n",
       "    </tr>\n",
       "    <tr>\n",
       "      <th>4</th>\n",
       "      <td>F8</td>\n",
       "      <td>Run It Back</td>\n",
       "      <td>Wed: Feb 15 (9pm-2am)</td>\n",
       "      <td>21+</td>\n",
       "      <td>free w/rsvp b4 11pm/$10</td>\n",
       "      <td>tech house</td>\n",
       "      <td>Eve, Nickie, VlexxZ, Luongevity, JJKO</td>\n",
       "      <td>('1192 Folsom, San Francisco', &lt;shapely.geomet...</td>\n",
       "    </tr>\n",
       "  </tbody>\n",
       "</table>\n",
       "</div>"
      ],
      "text/plain": [
       "          venue               event                   date  age  \\\n",
       "0  The Fillmore  The Avett Brothers    2018-11-08T19:30:00  18+   \n",
       "1  The Fillmore            The 1975    2018-11-09T19:00:00  16+   \n",
       "2            F8           INTERZONE            Tue: Feb 14  21+   \n",
       "3  The Fillmore            The 1975    2018-11-09T19:00:00  16+   \n",
       "4            F8         Run It Back  Wed: Feb 15 (9pm-2am)  21+   \n",
       "\n",
       "                     price                                              music  \\\n",
       "0                   $39.50                                   ['Folk', 'Rock']   \n",
       "1                   $45.50                                   ['Indie', 'Pop']   \n",
       "2                     free  ['darkwave', 'goth', 'EBM', 'industrial', 'wit...   \n",
       "3                   $45.50                                   ['Indie', 'Pop']   \n",
       "4  free w/rsvp b4 11pm/$10                                         tech house   \n",
       "\n",
       "                              performers  \\\n",
       "0                 ['The Avett Brothers']   \n",
       "1                           ['The 1975']   \n",
       "2                        ['Hex Embrace']   \n",
       "3                           ['The 1975']   \n",
       "4  Eve, Nickie, VlexxZ, Luongevity, JJKO   \n",
       "\n",
       "                                            location  \n",
       "0                                                NaN  \n",
       "1                                                NaN  \n",
       "2  ('1192 Folsom, San Francisco', <shapely.geomet...  \n",
       "3                                                NaN  \n",
       "4  ('1192 Folsom, San Francisco', <shapely.geomet...  "
      ]
     },
     "execution_count": 99,
     "metadata": {},
     "output_type": "execute_result"
    }
   ],
   "source": [
    "df = pd.read_csv('bar_events.csv',index_col=0)\n",
    "df.head()\n",
    "# df = df.dropna()\n",
    "# df[\"combined\"] = (\n",
    "#     \"Title: \" + df.Summary.str.strip() + \"; Content: \" + df.Text.str.strip()\n",
    "# )\n",
    "# df.head(2)"
   ]
  },
  {
   "cell_type": "code",
   "execution_count": 100,
   "metadata": {},
   "outputs": [],
   "source": [
    "def find_venue_type(venue):\n",
    "    prompt = f'Provide a short description of the following venue in SF? Utilize the venues website or online search to find the answer.' + '\\n' + 'Venue: ' + venue\n",
    "    return prompt\n"
   ]
  },
  {
   "cell_type": "code",
   "execution_count": 101,
   "metadata": {},
   "outputs": [
    {
     "data": {
      "text/html": [
       "<div>\n",
       "<style scoped>\n",
       "    .dataframe tbody tr th:only-of-type {\n",
       "        vertical-align: middle;\n",
       "    }\n",
       "\n",
       "    .dataframe tbody tr th {\n",
       "        vertical-align: top;\n",
       "    }\n",
       "\n",
       "    .dataframe thead th {\n",
       "        text-align: right;\n",
       "    }\n",
       "</style>\n",
       "<table border=\"1\" class=\"dataframe\">\n",
       "  <thead>\n",
       "    <tr style=\"text-align: right;\">\n",
       "      <th></th>\n",
       "      <th>venue</th>\n",
       "      <th>event</th>\n",
       "      <th>date</th>\n",
       "      <th>age</th>\n",
       "      <th>price</th>\n",
       "      <th>music</th>\n",
       "      <th>performers</th>\n",
       "      <th>location</th>\n",
       "      <th>venue_description</th>\n",
       "    </tr>\n",
       "  </thead>\n",
       "  <tbody>\n",
       "    <tr>\n",
       "      <th>0</th>\n",
       "      <td>The Fillmore</td>\n",
       "      <td>The Avett Brothers</td>\n",
       "      <td>2018-11-08T19:30:00</td>\n",
       "      <td>18+</td>\n",
       "      <td>$39.50</td>\n",
       "      <td>['Folk', 'Rock']</td>\n",
       "      <td>['The Avett Brothers']</td>\n",
       "      <td>NaN</td>\n",
       "      <td>The Fillmore is a historic music venue in San ...</td>\n",
       "    </tr>\n",
       "    <tr>\n",
       "      <th>1</th>\n",
       "      <td>The Fillmore</td>\n",
       "      <td>The 1975</td>\n",
       "      <td>2018-11-09T19:00:00</td>\n",
       "      <td>16+</td>\n",
       "      <td>$45.50</td>\n",
       "      <td>['Indie', 'Pop']</td>\n",
       "      <td>['The 1975']</td>\n",
       "      <td>NaN</td>\n",
       "      <td>The Fillmore is a historic music venue in San ...</td>\n",
       "    </tr>\n",
       "    <tr>\n",
       "      <th>2</th>\n",
       "      <td>F8</td>\n",
       "      <td>INTERZONE</td>\n",
       "      <td>Tue: Feb 14</td>\n",
       "      <td>21+</td>\n",
       "      <td>free</td>\n",
       "      <td>['darkwave', 'goth', 'EBM', 'industrial', 'wit...</td>\n",
       "      <td>['Hex Embrace']</td>\n",
       "      <td>('1192 Folsom, San Francisco', &lt;shapely.geomet...</td>\n",
       "      <td>F8 is a nightclub in San Francisco that offers...</td>\n",
       "    </tr>\n",
       "    <tr>\n",
       "      <th>3</th>\n",
       "      <td>The Fillmore</td>\n",
       "      <td>The 1975</td>\n",
       "      <td>2018-11-09T19:00:00</td>\n",
       "      <td>16+</td>\n",
       "      <td>$45.50</td>\n",
       "      <td>['Indie', 'Pop']</td>\n",
       "      <td>['The 1975']</td>\n",
       "      <td>NaN</td>\n",
       "      <td>The Fillmore is a historic music venue in San ...</td>\n",
       "    </tr>\n",
       "    <tr>\n",
       "      <th>4</th>\n",
       "      <td>F8</td>\n",
       "      <td>Run It Back</td>\n",
       "      <td>Wed: Feb 15 (9pm-2am)</td>\n",
       "      <td>21+</td>\n",
       "      <td>free w/rsvp b4 11pm/$10</td>\n",
       "      <td>tech house</td>\n",
       "      <td>Eve, Nickie, VlexxZ, Luongevity, JJKO</td>\n",
       "      <td>('1192 Folsom, San Francisco', &lt;shapely.geomet...</td>\n",
       "      <td>F8 is a nightclub in San Francisco that offers...</td>\n",
       "    </tr>\n",
       "  </tbody>\n",
       "</table>\n",
       "</div>"
      ],
      "text/plain": [
       "          venue               event                   date  age  \\\n",
       "0  The Fillmore  The Avett Brothers    2018-11-08T19:30:00  18+   \n",
       "1  The Fillmore            The 1975    2018-11-09T19:00:00  16+   \n",
       "2            F8           INTERZONE            Tue: Feb 14  21+   \n",
       "3  The Fillmore            The 1975    2018-11-09T19:00:00  16+   \n",
       "4            F8         Run It Back  Wed: Feb 15 (9pm-2am)  21+   \n",
       "\n",
       "                     price                                              music  \\\n",
       "0                   $39.50                                   ['Folk', 'Rock']   \n",
       "1                   $45.50                                   ['Indie', 'Pop']   \n",
       "2                     free  ['darkwave', 'goth', 'EBM', 'industrial', 'wit...   \n",
       "3                   $45.50                                   ['Indie', 'Pop']   \n",
       "4  free w/rsvp b4 11pm/$10                                         tech house   \n",
       "\n",
       "                              performers  \\\n",
       "0                 ['The Avett Brothers']   \n",
       "1                           ['The 1975']   \n",
       "2                        ['Hex Embrace']   \n",
       "3                           ['The 1975']   \n",
       "4  Eve, Nickie, VlexxZ, Luongevity, JJKO   \n",
       "\n",
       "                                            location  \\\n",
       "0                                                NaN   \n",
       "1                                                NaN   \n",
       "2  ('1192 Folsom, San Francisco', <shapely.geomet...   \n",
       "3                                                NaN   \n",
       "4  ('1192 Folsom, San Francisco', <shapely.geomet...   \n",
       "\n",
       "                                   venue_description  \n",
       "0  The Fillmore is a historic music venue in San ...  \n",
       "1  The Fillmore is a historic music venue in San ...  \n",
       "2  F8 is a nightclub in San Francisco that offers...  \n",
       "3  The Fillmore is a historic music venue in San ...  \n",
       "4  F8 is a nightclub in San Francisco that offers...  "
      ]
     },
     "execution_count": 101,
     "metadata": {},
     "output_type": "execute_result"
    }
   ],
   "source": [
    "venue_description = {}\n",
    "for index, row in df.iterrows():\n",
    "    if row['venue'] not in venue_description:\n",
    "        response = openai.Completion.create(\n",
    "            model=\"text-curie-001\",\n",
    "            prompt=find_venue_type(row['venue']),\n",
    "            temperature=0.3,\n",
    "            max_tokens = 100,\n",
    "        )\n",
    "        response_text = response['choices'][0]['text'].strip()\n",
    "        venue_description[row['venue']] = response_text\n",
    "        df.loc[index, 'venue_description'] = response_text\n",
    "\n",
    "    else:\n",
    "        df.loc[index, 'venue_description'] = venue_description[row['venue']]    \n"
   ]
  },
  {
   "cell_type": "code",
   "execution_count": 118,
   "metadata": {},
   "outputs": [],
   "source": [
    "df_embeddings = df.applymap(str)\n",
    "encoding = tiktoken.get_encoding(embedding_encoding)\n",
    "df[\"combined\"] = (\n",
    "    \"Venue: \" + df_embeddings.venue.str.strip() + \"; Venue Description: \" + df_embeddings.venue_description.str.strip() + \n",
    "    \"; Event: \" + df_embeddings.event.str.strip() +  \"; Price: \" + df_embeddings.price.str.strip() +  \n",
    "    \"; Music: \" + df_embeddings.music.str.strip()\n",
    ")\n",
    "\n",
    "df[\"n_tokens\"] = df.combined.apply(lambda x: len(encoding.encode(x)))"
   ]
  },
  {
   "cell_type": "code",
   "execution_count": 123,
   "metadata": {},
   "outputs": [],
   "source": [
    "df[\"embedding\"] = df.combined.apply(lambda x: get_embedding(x, engine=embedding_model))\n",
    "df.to_csv(\"bar_events_with_embeddings.csv\")"
   ]
  },
  {
   "cell_type": "markdown",
   "metadata": {},
   "source": [
    "## Cluster Data"
   ]
  },
  {
   "cell_type": "code",
   "execution_count": 149,
   "metadata": {},
   "outputs": [
    {
     "data": {
      "text/plain": [
       "(208, 1536)"
      ]
     },
     "execution_count": 149,
     "metadata": {},
     "output_type": "execute_result"
    }
   ],
   "source": [
    "import numpy as np\n",
    "data = pd.read_csv('bar_events_with_embeddings.csv',index_col=0)\n",
    "data[\"embedding\"] = data.embedding.apply(eval).apply(np.array)  # convert string to numpy array\n",
    "matrix = np.vstack(df.embedding.values)\n",
    "matrix.shape"
   ]
  },
  {
   "cell_type": "code",
   "execution_count": 150,
   "metadata": {},
   "outputs": [
    {
     "name": "stdout",
     "output_type": "stream",
     "text": [
      "For n_clusters = 2 The average silhouette_score is : 0.20795717785013654\n",
      "For n_clusters = 3 The average silhouette_score is : 0.23091139829337845\n",
      "For n_clusters = 4 The average silhouette_score is : 0.24912960957133398\n",
      "For n_clusters = 5 The average silhouette_score is : 0.24744193998408656\n",
      "For n_clusters = 6 The average silhouette_score is : 0.2696417470894206\n",
      "For n_clusters = 7 The average silhouette_score is : 0.2856754966543659\n",
      "For n_clusters = 8 The average silhouette_score is : 0.3266853853693429\n",
      "For n_clusters = 9 The average silhouette_score is : 0.3497637658156962\n",
      "For n_clusters = 10 The average silhouette_score is : 0.36048062618395\n",
      "For n_clusters = 11 The average silhouette_score is : 0.3609838561111598\n",
      "For n_clusters = 12 The average silhouette_score is : 0.38213663928349895\n",
      "For n_clusters = 13 The average silhouette_score is : 0.39142662666489625\n",
      "For n_clusters = 14 The average silhouette_score is : 0.39767762808733226\n",
      "For n_clusters = 15 The average silhouette_score is : 0.40129436341870023\n",
      "For n_clusters = 16 The average silhouette_score is : 0.4106306277517349\n",
      "For n_clusters = 17 The average silhouette_score is : 0.4092209897397731\n",
      "For n_clusters = 18 The average silhouette_score is : 0.41418734658778383\n",
      "For n_clusters = 19 The average silhouette_score is : 0.416787951982245\n",
      "For n_clusters = 20 The average silhouette_score is : 0.42798864137426246\n",
      "For n_clusters = 21 The average silhouette_score is : 0.43238654178229446\n",
      "For n_clusters = 22 The average silhouette_score is : 0.4353075419260443\n",
      "For n_clusters = 23 The average silhouette_score is : 0.4402667793306658\n",
      "For n_clusters = 24 The average silhouette_score is : 0.4534404334768487\n",
      "For n_clusters = 25 The average silhouette_score is : 0.44475076494243015\n",
      "For n_clusters = 26 The average silhouette_score is : 0.44415973283271215\n",
      "For n_clusters = 27 The average silhouette_score is : 0.4382273547013045\n",
      "For n_clusters = 28 The average silhouette_score is : 0.4437801919198194\n",
      "For n_clusters = 29 The average silhouette_score is : 0.45786316074591327\n",
      "For n_clusters = 30 The average silhouette_score is : 0.4487650543757503\n",
      "For n_clusters = 31 The average silhouette_score is : 0.46152982863728886\n",
      "For n_clusters = 32 The average silhouette_score is : 0.4634844526411209\n",
      "For n_clusters = 33 The average silhouette_score is : 0.4639022138751698\n",
      "For n_clusters = 34 The average silhouette_score is : 0.44677794238317714\n",
      "For n_clusters = 35 The average silhouette_score is : 0.46223844508806244\n",
      "For n_clusters = 36 The average silhouette_score is : 0.4653381822181183\n",
      "For n_clusters = 37 The average silhouette_score is : 0.42601300756981664\n",
      "For n_clusters = 38 The average silhouette_score is : 0.46110489511943026\n",
      "For n_clusters = 39 The average silhouette_score is : 0.4444539207677961\n"
     ]
    }
   ],
   "source": [
    "from sklearn.metrics import silhouette_score\n",
    "from sklearn.cluster import KMeans\n",
    "\n",
    "\n",
    "# Load the data into a pandas dataframe\n",
    "\n",
    "# Convert the dataframe to a numpy array\n",
    "# Try different numbers of clusters\n",
    "for n_clusters in range(2, 40):\n",
    "    # Train a KMeans model with the specified number of clusters\n",
    "    kmeans = KMeans(n_clusters=n_clusters)\n",
    "    kmeans.fit(matrix)\n",
    "    \n",
    "    # Calculate the silhouette score for this clustering solution\n",
    "    silhouette_avg = silhouette_score(matrix, kmeans.labels_)\n",
    "    print(\"For n_clusters =\", n_clusters,\n",
    "          \"The average silhouette_score is :\", silhouette_avg)"
   ]
  },
  {
   "cell_type": "code",
   "execution_count": 151,
   "metadata": {},
   "outputs": [
    {
     "data": {
      "image/png": "[encoded data removed]",
      "text/plain": [
       "<Figure size 432x288 with 1 Axes>"
      ]
     },
     "metadata": {
      "needs_background": "light"
     },
     "output_type": "display_data"
    },
    {
     "name": "stdout",
     "output_type": "stream",
     "text": [
      "The knee point is at k = 12\n"
     ]
    }
   ],
   "source": [
    "import pandas as pd\n",
    "import numpy as np\n",
    "import matplotlib.pyplot as plt\n",
    "from sklearn.cluster import KMeans\n",
    "from kneed import KneeLocator\n",
    "\n",
    "# load the data\n",
    "\n",
    "# calculate the sum of squared distances for different values of k\n",
    "ssd = []\n",
    "K = range(1, 40)\n",
    "for k in K:\n",
    "    kmeans = KMeans(n_clusters=k, random_state=0)\n",
    "    kmeans.fit(matrix)\n",
    "    ssd.append(kmeans.inertia_)\n",
    "\n",
    "# find the knee point\n",
    "kl = KneeLocator(K, ssd, curve='convex', direction='decreasing')\n",
    "knee = kl.knee\n",
    "\n",
    "# plot the results with the knee point marked\n",
    "plt.plot(K, ssd, 'bx-')\n",
    "plt.xlabel('Number of clusters (k)')\n",
    "plt.ylabel('Sum of squared distances (SSD)')\n",
    "plt.title('Elbow Method For Optimal k')\n",
    "plt.vlines(knee, plt.ylim()[0], plt.ylim()[1], linestyles='dashed')\n",
    "plt.show()\n",
    "\n",
    "# print the knee point\n",
    "print(\"The knee point is at k =\", knee)\n",
    "\n"
   ]
  },
  {
   "cell_type": "code",
   "execution_count": 160,
   "metadata": {},
   "outputs": [],
   "source": [
    "from sklearn.cluster import KMeans\n",
    "\n",
    "n_clusters = 12\n",
    "\n",
    "kmeans = KMeans(n_clusters=n_clusters, init=\"k-means++\", random_state=42)\n",
    "kmeans.fit(matrix)\n",
    "labels = kmeans.labels_\n",
    "data[\"Cluster\"] = labels"
   ]
  },
  {
   "cell_type": "code",
   "execution_count": 161,
   "metadata": {},
   "outputs": [
    {
     "data": {
      "text/plain": [
       "1     52\n",
       "3     30\n",
       "9     21\n",
       "5     17\n",
       "8     16\n",
       "2     14\n",
       "6     11\n",
       "4     11\n",
       "0     10\n",
       "11    10\n",
       "7      9\n",
       "10     7\n",
       "Name: Cluster, dtype: int64"
      ]
     },
     "execution_count": 161,
     "metadata": {},
     "output_type": "execute_result"
    }
   ],
   "source": [
    "data['Cluster'].value_counts()"
   ]
  },
  {
   "cell_type": "code",
   "execution_count": 162,
   "metadata": {},
   "outputs": [
    {
     "data": {
      "text/plain": [
       "Text(0.5, 1.0, 'Clusters identified visualized in language 2d using t-SNE')"
      ]
     },
     "execution_count": 162,
     "metadata": {},
     "output_type": "execute_result"
    },
    {
     "data": {
      "image/png": "[encoded data removed]",
      "text/plain": [
       "<Figure size 432x288 with 1 Axes>"
      ]
     },
     "metadata": {
      "needs_background": "light"
     },
     "output_type": "display_data"
    }
   ],
   "source": [
    "from sklearn.manifold import TSNE\n",
    "import matplotlib\n",
    "import matplotlib.pyplot as plt\n",
    "\n",
    "tsne = TSNE(n_components=2, perplexity=15, random_state=42, init=\"random\", learning_rate=200)\n",
    "vis_dims2 = tsne.fit_transform(matrix)\n",
    "\n",
    "x = [x for x, y in vis_dims2]\n",
    "y = [y for x, y in vis_dims2]\n",
    "\n",
    "for category, color in enumerate([\"purple\", \"green\", \"red\", \"blue\", \"black\", \"orange\", \"yellow\", \"brown\", \"lightpink\", \"magenta\", \"indigo\", \"grey\"]):\n",
    "    xs = np.array(x)[data.Cluster == category]\n",
    "    ys = np.array(y)[data.Cluster == category]\n",
    "    plt.scatter(xs, ys, color=color, alpha=0.3)\n",
    "\n",
    "    avg_x = xs.mean()\n",
    "    avg_y = ys.mean()\n",
    "\n",
    "    plt.scatter(avg_x, avg_y, marker=\"x\", color=color, s=100)\n",
    "plt.title(\"Clusters identified visualized in language 2d using t-SNE\")"
   ]
  },
  {
   "cell_type": "code",
   "execution_count": 178,
   "metadata": {},
   "outputs": [
    {
     "data": {
      "text/plain": [
       "Index(['venue', 'event', 'date', 'age', 'price', 'music', 'performers',\n",
       "       'location', 'venue_description', 'combined', 'n_tokens', 'embedding',\n",
       "       'Cluster'],\n",
       "      dtype='object')"
      ]
     },
     "execution_count": 178,
     "metadata": {},
     "output_type": "execute_result"
    }
   ],
   "source": [
    "data.columns"
   ]
  },
  {
   "cell_type": "code",
   "execution_count": 181,
   "metadata": {},
   "outputs": [
    {
     "name": "stdout",
     "output_type": "stream",
     "text": [
      "Cluster 0 Theme:  The Monarch Theatre is a historic theater in San Francisco.\n",
      "Cluster 1 Theme:  All of the venues are nightclubs in San Francisco.\n",
      "Cluster 2 Theme: The common theme among these venues is that they are all located in San Francisco and offer performances and classes in the arts. They also all feature electronic music genres such as house, tech house, electro house, progressive house, downtempo, world music, and global bass.\n",
      "Cluster 3 Theme: The venues all have the same description (The Fillmore is a historic music venue in San Francisco.), the same artist (The Avett Brothers), the same ticket price ($39.50), and the same genres of music (Folk and Rock).\n",
      "Cluster 4 Theme: The common theme among these venues is that they are all located at the Public Works Gallery in San Francisco.\n",
      "Cluster 5 Theme: The venues all have the same location (the Regency Ballroom in San Francisco) and feature live music and comedy performances. They also all have similar ticket prices ($15-$40) and feature similar genres of music (hip-hop, top 40, house, EDM, future bass, trap).\n",
      "Cluster 6 Theme: The common theme among these venues is that they are all located at The Midway, a nightclub in San Francisco.\n",
      "Cluster 7 Theme: The common theme among these venues is that they are all located at F8, a nightclub in San Francisco. They all offer a variety of music genres, including electronic, rock, and hip-hop. Additionally, they all feature different types of music, such as techno, tech house, disco, italo,\n",
      "Cluster 8 Theme:  All of the venues are located in San Francisco.\n",
      "Cluster 9 Theme:  The Fillmore is a historic music venue in San Francisco hosting the band The 1975 with a ticket price of $45.50 and playing Indie and Pop music.\n",
      "Cluster 10 Theme:  The venues all feature live music and have an admission fee.\n",
      "Cluster 11 Theme: The venues all have in common that they are nightclubs in San Francisco, they feature live music and DJs, and they have a range of music genres including techno, tech house, and deep house.\n"
     ]
    }
   ],
   "source": [
    "rev_per_cluster = 5\n",
    "\n",
    "for i in range(12):\n",
    "    print(f\"Cluster {i} Theme:\", end=\" \")\n",
    "\n",
    "    venues = \"\\n\".join(\n",
    "        data[data.Cluster == i]\n",
    "        .combined.str.replace(\"Venue: \", \"\")\n",
    "        .str.replace(\"Venue Description: \", \":  \")\n",
    "        .str.replace(\"Event: \", \":  \")\n",
    "        .str.replace(\"Price: \", \":  \")\n",
    "        .str.replace(\"Music: \", \":  \")\n",
    "        .sample(rev_per_cluster, random_state=42)\n",
    "        .values\n",
    "    )\n",
    "    response = openai.Completion.create(\n",
    "        engine=\"text-davinci-003\",\n",
    "        prompt=f'What do the following venues have in common?\\n\\nVenue Descriptions:\\n\"\"\"\\n{venues}\\n\"\"\"\\n\\nTheme:',\n",
    "        temperature=0,\n",
    "        max_tokens=64,\n",
    "        top_p=1,\n",
    "        frequency_penalty=0,\n",
    "        presence_penalty=0,\n",
    "    )\n",
    "    print(response[\"choices\"][0][\"text\"].replace(\"\\n\", \"\"))"
   ]
  }
 ],
 "metadata": {
  "kernelspec": {
   "display_name": "base",
   "language": "python",
   "name": "python3"
  },
  "language_info": {
   "codemirror_mode": {
    "name": "ipython",
    "version": 3
   },
   "file_extension": ".py",
   "mimetype": "text/x-python",
   "name": "python",
   "nbconvert_exporter": "python",
   "pygments_lexer": "ipython3",
   "version": "3.9.7"
  },
  "orig_nbformat": 4,
  "vscode": {
   "interpreter": {
    "hash": "550d0c189b7e45fdfea85b851043bd38883faf739a668ca7e6d12e375ab947ba"
   }
  }
 },
 "nbformat": 4,
 "nbformat_minor": 2
}
