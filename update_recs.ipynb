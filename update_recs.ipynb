{
 "cells": [
  {
   "cell_type": "code",
   "execution_count": null,
   "metadata": {},
   "outputs": [],
   "source": [
    "import pickle \n",
    "\n",
    "with open('user_embedding.pkl', 'rb') as f:\n",
    "    user_embedding = pickle.load(f)\n",
    "\n",
    "with open('event_embeddings.pkl', 'rb') as f:\n",
    "    event_embeddings = pickle.load(f)\n"
   ]
  },
  {
   "cell_type": "code",
   "execution_count": null,
   "metadata": {},
   "outputs": [],
   "source": [
    "import pymysql\n",
    "import pandas as pd\n",
    "import os\n",
    "import openai\n",
    "\n",
    "mysql_pass = os.getenv(\"MYSQL_PASSWORD\")\n",
    "connection = pymysql.connect(\n",
    "    host='localhost',\n",
    "    user='root',\n",
    "    password=mysql_pass,\n",
    "    db='mysfevents'\n",
    ")\n",
    "\n",
    "# Execute a SQL query to retrieve data from a table\n",
    "query = 'SELECT event_id FROM liked_events'\n",
    "data = pd.read_sql_query(query, connection)\n",
    "\n",
    "second_query = 'SELECT id FROM events'\n",
    "data2 = pd.read_sql_query(second_query, connection)\n",
    "\n",
    "# Close the database connection\n",
    "connection.close()\n",
    "\n",
    "# Print the dataframe\n",
    "liked_event_ids = data['event_id'].to_list()\n",
    "event_ids = data2['id'].to_list()\n"
   ]
  },
  {
   "cell_type": "code",
   "execution_count": null,
   "metadata": {},
   "outputs": [],
   "source": [
    "import numpy as np\n",
    "from sklearn.metrics.pairwise import cosine_similarity\n",
    "\n",
    "liked_events_mask = np.isin(event_ids, liked_event_ids)\n",
    "masked_event_embeddings = np.copy(event_embeddings)\n",
    "masked_event_embeddings[liked_events_mask] = 0.0\n",
    "user_embedding_reshaped = np.reshape(user_embedding, (1, -1))\n",
    "\n",
    "all_embeddings = np.concatenate([user_embedding_reshaped, masked_event_embeddings])\n",
    "\n",
    "similarity_scores = cosine_similarity(all_embeddings)[0][1:]"
   ]
  },
  {
   "cell_type": "code",
   "execution_count": null,
   "metadata": {},
   "outputs": [],
   "source": [
    "import pymysql\n",
    "\n",
    "# create a connection to your MySQL database\n",
    "connection = pymysql.connect(\n",
    "    host='localhost',\n",
    "    user='root',\n",
    "    password=mysql_pass,\n",
    "    db='mysfevents'\n",
    ")\n",
    "\n",
    "# get a cursor to execute SQL statements\n",
    "cursor = connection.cursor()\n",
    "\n",
    "# update the similarity scores in the MySQL table\n",
    "for i, event_id in enumerate(event_ids):\n",
    "    similarity = similarity_scores[i]\n",
    "    sql = \"UPDATE events SET similarity = %s WHERE id = %s\"\n",
    "    val = (similarity, event_id)\n",
    "    cursor.execute(sql, val)\n",
    "\n",
    "# commit the changes to the database\n",
    "connection.commit()\n",
    "\n",
    "# close the database connection\n",
    "cursor.close()\n",
    "connection.close()\n"
   ]
  }
 ],
 "metadata": {
  "kernelspec": {
   "display_name": "base",
   "language": "python",
   "name": "python3"
  },
  "language_info": {
   "codemirror_mode": {
    "name": "ipython",
    "version": 3
   },
   "file_extension": ".py",
   "mimetype": "text/x-python",
   "name": "python",
   "nbconvert_exporter": "python",
   "pygments_lexer": "ipython3",
   "version": "3.9.7"
  },
  "orig_nbformat": 4,
  "vscode": {
   "interpreter": {
    "hash": "550d0c189b7e45fdfea85b851043bd38883faf739a668ca7e6d12e375ab947ba"
   }
  }
 },
 "nbformat": 4,
 "nbformat_minor": 2
}
