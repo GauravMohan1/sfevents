{
 "cells": [
  {
   "cell_type": "code",
   "execution_count": 194,
   "metadata": {},
   "outputs": [],
   "source": [
    "import numpy as np\n",
    "from sklearn.metrics.pairwise import cosine_similarity\n",
    "import pandas as pd\n",
    "import pickle\n",
    "\n",
    "\n",
    "\n",
    "df_events = pd.read_csv('preprocessed_data.csv',index_col=0)\n",
    "df_events = df_events.drop_duplicates(subset=['venue','event','date','age','price','location','distance_miles'])\n",
    "event_embeddings = df_events.embedding.apply(eval).apply(np.array)\n",
    "event_embeddings = np.array(list(event_embeddings))\n",
    "# Cache user_embedding using Pickle\n",
    "with open('event_embeddings.pkl', 'wb') as f:\n",
    "    pickle.dump(event_embeddings, f)\n"
   ]
  },
  {
   "cell_type": "code",
   "execution_count": 131,
   "metadata": {},
   "outputs": [],
   "source": [
    "interests = ['Live music', 'DJ performances', 'Dancing', 'Karaoke', 'Comedy shows', 'Trivia nights', 'Art exhibits', 'Film screenings', 'Wine tasting', 'Craft beer tasting', 'Mixology classes', 'Food events', 'Sports viewing parties', 'Networking events', 'Tech events']\n",
    "venue_types = ['Speakeasy Bar', 'Dive Bar', 'Nightclubs', 'Music Venue', 'Comedy Club', 'Theaters', 'Art Gallery', 'Film theaters', 'Wineries', 'Breweries', 'Cocktail Bars', 'Sports Bars', 'Restaurants with Live Music', 'Rooftop bars', 'Convention Centers']\n",
    "price_range_pref = ['free', '$10-$20', '$20-$50', '$50-$100', 'over $100']\n",
    "time_of_day_pref = ['daytime', 'evening', 'night']\n",
    "neighborhoods_of_interest = ['Financial District', 'Nob Hill', 'Pacific Heights', 'Russian Hill', 'North Beach', 'The Mission', 'Castro', 'Haight-Ashbury', 'SoMa', 'Marina']\n",
    "\n",
    "user_interests = ['Live music', 'DJ performances', 'Comedy shows', 'Food events', 'Networking events', 'Tech events']\n",
    "user_venues = ['Speakeasy Bar', 'Dive Bar','Music Venue', 'Comedy Club', 'Cocktail Bars', 'Theaters']\n",
    "user_prices = ['free', '$10-$20', '$20-$50']\n",
    "user_time = ['evening', 'night']\n",
    "user_neighborhoods = ['Nob Hill', 'Pacific Heights', 'Russian Hill', 'North Beach', 'The Mission', 'Castro', 'Haight-Ashbury']"
   ]
  },
  {
   "cell_type": "code",
   "execution_count": 132,
   "metadata": {},
   "outputs": [],
   "source": [
    "import pandas as pd\n",
    "import tiktoken\n",
    "from openai.embeddings_utils import get_embedding\n",
    "import os\n",
    "import openai\n",
    "\n",
    "openai.apikey = os.getenv(\"OPENAI_API_KEY\")\n",
    "# embedding model parameters\n",
    "embedding_model = \"text-embedding-ada-002\"\n",
    "embedding_encoding = \"cl100k_base\"  # this the encoding for text-embedding-ada-002\n",
    "max_tokens = 5000  # the maximum for text-embedding-ada-002 is 8191"
   ]
  },
  {
   "cell_type": "code",
   "execution_count": 133,
   "metadata": {},
   "outputs": [],
   "source": [
    "encoding = tiktoken.get_encoding(embedding_encoding)\n",
    "combined = (\"Event Preferences: \" + str(user_interests) +  \"; Venue Preferences: \" + str(user_venues) + \n",
    "    \"; Price Range Preferences: \" + str(user_prices) +  \"; Time of Day Preferences: \" + str(user_time) + \n",
    "     \"; Neighborhoods of Interest: \" + str(user_neighborhoods))\n",
    "\n",
    "user_embedding = get_embedding(combined, engine=embedding_model)\n",
    "user_embedding = np.array(user_embedding)"
   ]
  },
  {
   "cell_type": "code",
   "execution_count": 189,
   "metadata": {},
   "outputs": [],
   "source": [
    "import pickle\n",
    "\n",
    "# Cache user_embedding using Pickle\n",
    "with open('user_embedding.pkl', 'wb') as f:\n",
    "    pickle.dump(user_embedding, f)"
   ]
  },
  {
   "cell_type": "code",
   "execution_count": 135,
   "metadata": {},
   "outputs": [],
   "source": [
    "similarity_matrix = cosine_similarity(user_embedding.reshape(1, -1), event_embeddings)"
   ]
  },
  {
   "attachments": {},
   "cell_type": "markdown",
   "metadata": {},
   "source": [
    "## Load into Database"
   ]
  },
  {
   "cell_type": "code",
   "execution_count": 180,
   "metadata": {},
   "outputs": [],
   "source": [
    "df_events = df_events.assign(similarity=similarity_matrix[0])"
   ]
  },
  {
   "cell_type": "code",
   "execution_count": 181,
   "metadata": {},
   "outputs": [],
   "source": [
    "database_df = df_events[['venue', 'event', 'date', 'age', 'price', 'location',\n",
    "       'venue_description', 'event_description', 'neighborhood', 'distance_miles', \n",
    "       'similarity']]"
   ]
  },
  {
   "cell_type": "code",
   "execution_count": 182,
   "metadata": {},
   "outputs": [],
   "source": [
    "database_df = database_df.drop_duplicates(subset=['venue','event','date','age','price','location','distance_miles'])"
   ]
  },
  {
   "cell_type": "code",
   "execution_count": 183,
   "metadata": {},
   "outputs": [],
   "source": [
    "import pymysql\n",
    "import os\n",
    "\n",
    "mysql_pass = os.getenv(\"MYSQL_PASSWORD\")\n",
    "\n",
    "# Connect to the MySQL server\n",
    "conn = pymysql.connect(host='localhost', user='root', password=mysql_pass, db='mysfevents')\n",
    "cursor = conn.cursor()\n",
    "\n",
    "\n",
    "table_name = 'events'\n",
    "\n",
    "drop_query = f\"DROP TABLE IF EXISTS {table_name};\"\n",
    "\n",
    "# Execute the SQL query to drop the table if it exists\n",
    "cursor.execute(drop_query)\n",
    "\n",
    "# Commit the changes to the database\n",
    "conn.commit()\n",
    "\n",
    "cursor.close()\n",
    "conn.close()"
   ]
  },
  {
   "cell_type": "code",
   "execution_count": 184,
   "metadata": {},
   "outputs": [],
   "source": [
    "conn = pymysql.connect(host='localhost', user='root', password=mysql_pass, db='mysfevents')\n",
    "cursor = conn.cursor()\n",
    "\n",
    "create_table_query = \"\"\"CREATE TABLE events (\n",
    "                        id INT AUTO_INCREMENT PRIMARY KEY,\n",
    "                        venue VARCHAR(150),\n",
    "                        event VARCHAR(150),\n",
    "                        date VARCHAR(150),\n",
    "                        age VARCHAR(150),\n",
    "                        price VARCHAR(150),\n",
    "                        location VARCHAR(150),\n",
    "                        venue_desc VARCHAR(3000),\n",
    "                        event_desc VARCHAR(5000),\n",
    "                        neighborhood VARCHAR(200),\n",
    "                        distance FLOAT,\n",
    "                        similarity FLOAT\n",
    "                        );\"\"\"\n",
    "cursor.execute(create_table_query)\n",
    "conn.commit()\n",
    "\n",
    "cursor.close()\n",
    "conn.close()"
   ]
  },
  {
   "cell_type": "code",
   "execution_count": 185,
   "metadata": {},
   "outputs": [],
   "source": [
    "database_df = database_df.fillna(value='')"
   ]
  },
  {
   "cell_type": "code",
   "execution_count": 186,
   "metadata": {},
   "outputs": [],
   "source": [
    "sql_query = \"INSERT INTO events (venue, event, date, age, price, location, venue_desc, event_desc, neighborhood, distance, similarity) VALUES (%s, %s, %s, %s, %s, %s, %s, %s, %s, %s, %s)\"\n",
    "\n",
    "data = database_df.to_records(index=False).tolist()\n"
   ]
  },
  {
   "cell_type": "code",
   "execution_count": 187,
   "metadata": {},
   "outputs": [],
   "source": [
    "conn = pymysql.connect(host='localhost', user='root', password=mysql_pass, db='mysfevents')\n",
    "cursor = conn.cursor()\n",
    "\n",
    "cursor.executemany(sql_query, data)\n",
    "\n",
    "conn.commit()\n",
    "\n",
    "cursor.close()\n",
    "conn.close()\n"
   ]
  }
 ],
 "metadata": {
  "kernelspec": {
   "display_name": "base",
   "language": "python",
   "name": "python3"
  },
  "language_info": {
   "codemirror_mode": {
    "name": "ipython",
    "version": 3
   },
   "file_extension": ".py",
   "mimetype": "text/x-python",
   "name": "python",
   "nbconvert_exporter": "python",
   "pygments_lexer": "ipython3",
   "version": "3.9.7"
  },
  "orig_nbformat": 4,
  "vscode": {
   "interpreter": {
    "hash": "550d0c189b7e45fdfea85b851043bd38883faf739a668ca7e6d12e375ab947ba"
   }
  }
 },
 "nbformat": 4,
 "nbformat_minor": 2
}
